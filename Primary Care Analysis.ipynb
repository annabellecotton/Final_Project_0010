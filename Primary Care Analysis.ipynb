{
 "cells": [
  {
   "cell_type": "markdown",
   "metadata": {},
   "source": [
    "**Primary Health Care Access in Pittsburgh Communities**\n",
    "\n",
    "*Final Project: Big Ideas in Computing*\n",
    "\n",
    "Annabelle Cotton\n",
    "\n",
    "14 November, 2020 "
   ]
  },
  {
   "cell_type": "markdown",
   "metadata": {},
   "source": [
    "**The Code**"
   ]
  },
  {
   "cell_type": "code",
   "execution_count": 14,
   "metadata": {},
   "outputs": [],
   "source": [
    "# load pandas\n",
    "import pandas as pd\n",
    "import numpy as np"
   ]
  },
  {
   "cell_type": "markdown",
   "metadata": {},
   "source": [
    "**Read the File**"
   ]
  },
  {
   "cell_type": "code",
   "execution_count": 15,
   "metadata": {},
   "outputs": [
    {
     "data": {
      "text/html": [
       "<div>\n",
       "<style scoped>\n",
       "    .dataframe tbody tr th:only-of-type {\n",
       "        vertical-align: middle;\n",
       "    }\n",
       "\n",
       "    .dataframe tbody tr th {\n",
       "        vertical-align: top;\n",
       "    }\n",
       "\n",
       "    .dataframe thead th {\n",
       "        text-align: right;\n",
       "    }\n",
       "</style>\n",
       "<table border=\"1\" class=\"dataframe\">\n",
       "  <thead>\n",
       "    <tr style=\"text-align: right;\">\n",
       "      <th></th>\n",
       "      <th>GROUP_NAME</th>\n",
       "      <th>PRACTICE_ADDR_1</th>\n",
       "      <th>PRACTICE_ADDR_2</th>\n",
       "      <th>PRACTICE_CITY</th>\n",
       "      <th>PRACTICE_STATE</th>\n",
       "      <th>Latitude</th>\n",
       "      <th>Longitude</th>\n",
       "    </tr>\n",
       "    <tr>\n",
       "      <th>PRACTICE_ZIP</th>\n",
       "      <th></th>\n",
       "      <th></th>\n",
       "      <th></th>\n",
       "      <th></th>\n",
       "      <th></th>\n",
       "      <th></th>\n",
       "      <th></th>\n",
       "    </tr>\n",
       "  </thead>\n",
       "  <tbody>\n",
       "    <tr>\n",
       "      <th>15212</th>\n",
       "      <td>Picciotti, Isabella M MD</td>\n",
       "      <td>1 Allegheny Square</td>\n",
       "      <td>NaN</td>\n",
       "      <td>Pittsburgh</td>\n",
       "      <td>PA</td>\n",
       "      <td>40.451948</td>\n",
       "      <td>-80.004895</td>\n",
       "    </tr>\n",
       "    <tr>\n",
       "      <th>15224</th>\n",
       "      <td>UPMC Emergency Medicine Inc</td>\n",
       "      <td>1 Childrens Hospital Drive</td>\n",
       "      <td>4401 Penn Avenue</td>\n",
       "      <td>Pittsburgh</td>\n",
       "      <td>PA</td>\n",
       "      <td>40.467315</td>\n",
       "      <td>-79.953590</td>\n",
       "    </tr>\n",
       "    <tr>\n",
       "      <th>15215</th>\n",
       "      <td>Hoover Medical Associates PC</td>\n",
       "      <td>100 Delafield Rd</td>\n",
       "      <td>Suite 312</td>\n",
       "      <td>Pittsburgh</td>\n",
       "      <td>PA</td>\n",
       "      <td>40.490244</td>\n",
       "      <td>-79.895719</td>\n",
       "    </tr>\n",
       "    <tr>\n",
       "      <th>15215</th>\n",
       "      <td>Partners in Nephrology and Endocrinology</td>\n",
       "      <td>100 Delafield Road</td>\n",
       "      <td>100 MAB Suite 212</td>\n",
       "      <td>Pittsburgh</td>\n",
       "      <td>PA</td>\n",
       "      <td>40.506845</td>\n",
       "      <td>-79.908076</td>\n",
       "    </tr>\n",
       "    <tr>\n",
       "      <th>15215</th>\n",
       "      <td>Bahl and Bahl Med Assoc</td>\n",
       "      <td>100 Delafield Road, Ste 103</td>\n",
       "      <td>NaN</td>\n",
       "      <td>Pittsburgh</td>\n",
       "      <td>PA</td>\n",
       "      <td>40.490244</td>\n",
       "      <td>-79.895719</td>\n",
       "    </tr>\n",
       "    <tr>\n",
       "      <th>15132</th>\n",
       "      <td>Zioncheck, Roger MD PC</td>\n",
       "      <td>100 Eighth Ave</td>\n",
       "      <td>NaN</td>\n",
       "      <td>McKeesport</td>\n",
       "      <td>PA</td>\n",
       "      <td>40.347704</td>\n",
       "      <td>-79.866961</td>\n",
       "    </tr>\n",
       "    <tr>\n",
       "      <th>15221</th>\n",
       "      <td>Premier Medical Associates CRNP</td>\n",
       "      <td>100 Forest Hills Plaza</td>\n",
       "      <td>NaN</td>\n",
       "      <td>Pittsburgh</td>\n",
       "      <td>PA</td>\n",
       "      <td>40.435067</td>\n",
       "      <td>-79.861938</td>\n",
       "    </tr>\n",
       "    <tr>\n",
       "      <th>15143</th>\n",
       "      <td>Heritage Valley Convenient Care Retail</td>\n",
       "      <td>100 Hazel Lane</td>\n",
       "      <td>NaN</td>\n",
       "      <td>Sewickley</td>\n",
       "      <td>PA</td>\n",
       "      <td>40.542415</td>\n",
       "      <td>-80.192742</td>\n",
       "    </tr>\n",
       "    <tr>\n",
       "      <th>15132</th>\n",
       "      <td>Zioncheck, Roger MD PC</td>\n",
       "      <td>100 Ninth Ave</td>\n",
       "      <td>NaN</td>\n",
       "      <td>McKeesport</td>\n",
       "      <td>PA</td>\n",
       "      <td>40.347396</td>\n",
       "      <td>-79.867398</td>\n",
       "    </tr>\n",
       "    <tr>\n",
       "      <th>15213</th>\n",
       "      <td>University of Pittsburgh Physicians</td>\n",
       "      <td>100 North Bellfield</td>\n",
       "      <td>NaN</td>\n",
       "      <td>Pittsburgh</td>\n",
       "      <td>PA</td>\n",
       "      <td>40.447147</td>\n",
       "      <td>-79.951826</td>\n",
       "    </tr>\n",
       "  </tbody>\n",
       "</table>\n",
       "</div>"
      ],
      "text/plain": [
       "                                            GROUP_NAME  \\\n",
       "PRACTICE_ZIP                                             \n",
       "15212                         Picciotti, Isabella M MD   \n",
       "15224                      UPMC Emergency Medicine Inc   \n",
       "15215                     Hoover Medical Associates PC   \n",
       "15215         Partners in Nephrology and Endocrinology   \n",
       "15215                          Bahl and Bahl Med Assoc   \n",
       "15132                           Zioncheck, Roger MD PC   \n",
       "15221                  Premier Medical Associates CRNP   \n",
       "15143           Heritage Valley Convenient Care Retail   \n",
       "15132                           Zioncheck, Roger MD PC   \n",
       "15213              University of Pittsburgh Physicians   \n",
       "\n",
       "                          PRACTICE_ADDR_1    PRACTICE_ADDR_2 PRACTICE_CITY  \\\n",
       "PRACTICE_ZIP                                                                 \n",
       "15212                  1 Allegheny Square                NaN    Pittsburgh   \n",
       "15224          1 Childrens Hospital Drive   4401 Penn Avenue    Pittsburgh   \n",
       "15215                    100 Delafield Rd          Suite 312    Pittsburgh   \n",
       "15215                  100 Delafield Road  100 MAB Suite 212    Pittsburgh   \n",
       "15215         100 Delafield Road, Ste 103                NaN    Pittsburgh   \n",
       "15132                      100 Eighth Ave                NaN    McKeesport   \n",
       "15221              100 Forest Hills Plaza                NaN    Pittsburgh   \n",
       "15143                      100 Hazel Lane                NaN     Sewickley   \n",
       "15132                       100 Ninth Ave                NaN    McKeesport   \n",
       "15213                 100 North Bellfield                NaN    Pittsburgh   \n",
       "\n",
       "             PRACTICE_STATE   Latitude  Longitude  \n",
       "PRACTICE_ZIP                                       \n",
       "15212                    PA  40.451948 -80.004895  \n",
       "15224                    PA  40.467315 -79.953590  \n",
       "15215                    PA  40.490244 -79.895719  \n",
       "15215                    PA  40.506845 -79.908076  \n",
       "15215                    PA  40.490244 -79.895719  \n",
       "15132                    PA  40.347704 -79.866961  \n",
       "15221                    PA  40.435067 -79.861938  \n",
       "15143                    PA  40.542415 -80.192742  \n",
       "15132                    PA  40.347396 -79.867398  \n",
       "15213                    PA  40.447147 -79.951826  "
      ]
     },
     "execution_count": 15,
     "metadata": {},
     "output_type": "execute_result"
    }
   ],
   "source": [
    "\n",
    "# load in the primary care file\n",
    "data = pd.read_csv(\"primary_care_access.csv\", index_col=\"PRACTICE_ZIP\")\n",
    "\n",
    "# look at the first ten rows of the data\n",
    "data.head(10)"
   ]
  },
  {
   "cell_type": "markdown",
   "metadata": {},
   "source": [
    "**Count the frequency of primary care in each neighborhood**"
   ]
  },
  {
   "cell_type": "code",
   "execution_count": 16,
   "metadata": {},
   "outputs": [
    {
     "name": "stdout",
     "output_type": "stream",
     "text": [
      "Pittsburgh           356\n",
      "Monroeville           30\n",
      "Wexford               24\n",
      "Sewickley             15\n",
      "Mc Kees Rocks         14\n",
      "Natrona Heights       12\n",
      "McKeesport            12\n",
      "Bridgeville           11\n",
      "White Oak             11\n",
      "Bethel Park            9\n",
      "Coraopolis             8\n",
      "Gibsonia               8\n",
      "Allison Park           7\n",
      "Moon Township          6\n",
      "Carnegie               5\n",
      "West Mifflin           5\n",
      "Oakmont                5\n",
      "Homestead              5\n",
      "Tarentum               4\n",
      "Elizabeth              3\n",
      "Cheswick               3\n",
      "Turtle Creek           3\n",
      "Verona                 3\n",
      "Braddock               3\n",
      "Bellevue               3\n",
      "Clairton               2\n",
      "North Versailles       2\n",
      "Leetsdale              2\n",
      "Jefferson Hills        2\n",
      "Imperial               2\n",
      "Mc Keesport            2\n",
      "Glenshaw               2\n",
      "Duquesne               2\n",
      "West View              2\n",
      "Swissvale              1\n",
      "Mc Knight              1\n",
      "Large                  1\n",
      "Aspinwall              1\n",
      "Mt Lebanon             1\n",
      "Wilmerding             1\n",
      "Sharpsburg             1\n",
      "West Homestead         1\n",
      "Rankin                 1\n",
      "Blawnox                1\n",
      "East Mc Keesport       1\n",
      "Upper Saint Clair      1\n",
      "Millvale               1\n",
      "Clinton                1\n",
      "Oakdale                1\n",
      "Mount Oliver           1\n",
      "Wilkinsburg            1\n",
      "Warrendale             1\n",
      "Munhall                1\n",
      "Brentwood              1\n",
      "Springdale             1\n",
      "Mt Washington          1\n",
      "Glassport              1\n",
      "Pleasant Hills         1\n",
      "Name: PRACTICE_CITY, dtype: int64\n"
     ]
    }
   ],
   "source": [
    "#Rearrange the data to count the frequency of primary care in each neighborhood.\n",
    "full_count = data['PRACTICE_CITY'].value_counts() \n",
    "print(full_count) \n"
   ]
  },
  {
   "cell_type": "markdown",
   "metadata": {},
   "source": [
    "**Pittsburgh is not part of our data set...so lets take it out**"
   ]
  },
  {
   "cell_type": "code",
   "execution_count": 17,
   "metadata": {},
   "outputs": [
    {
     "name": "stdout",
     "output_type": "stream",
     "text": [
      "Monroeville          30\n",
      "Wexford              24\n",
      "Sewickley            15\n",
      "Mc Kees Rocks        14\n",
      "Natrona Heights      12\n",
      "McKeesport           12\n",
      "Bridgeville          11\n",
      "White Oak            11\n",
      "Bethel Park           9\n",
      "Coraopolis            8\n",
      "Gibsonia              8\n",
      "Allison Park          7\n",
      "Moon Township         6\n",
      "Carnegie              5\n",
      "West Mifflin          5\n",
      "Oakmont               5\n",
      "Homestead             5\n",
      "Tarentum              4\n",
      "Elizabeth             3\n",
      "Cheswick              3\n",
      "Turtle Creek          3\n",
      "Verona                3\n",
      "Braddock              3\n",
      "Bellevue              3\n",
      "Clairton              2\n",
      "North Versailles      2\n",
      "Leetsdale             2\n",
      "Jefferson Hills       2\n",
      "Imperial              2\n",
      "Mc Keesport           2\n",
      "Glenshaw              2\n",
      "Duquesne              2\n",
      "West View             2\n",
      "Swissvale             1\n",
      "Mc Knight             1\n",
      "Large                 1\n",
      "Aspinwall             1\n",
      "Mt Lebanon            1\n",
      "Wilmerding            1\n",
      "Sharpsburg            1\n",
      "West Homestead        1\n",
      "Rankin                1\n",
      "Blawnox               1\n",
      "East Mc Keesport      1\n",
      "Upper Saint Clair     1\n",
      "Millvale              1\n",
      "Clinton               1\n",
      "Oakdale               1\n",
      "Mount Oliver          1\n",
      "Wilkinsburg           1\n",
      "Warrendale            1\n",
      "Munhall               1\n",
      "Brentwood             1\n",
      "Springdale            1\n",
      "Mt Washington         1\n",
      "Glassport             1\n",
      "Pleasant Hills        1\n",
      "Name: PRACTICE_CITY, dtype: int64\n"
     ]
    }
   ],
   "source": [
    "##delete Pittsburgh from data\n",
    "count = full_count.drop(\"Pittsburgh\")\n",
    "print(count)"
   ]
  },
  {
   "cell_type": "markdown",
   "metadata": {},
   "source": [
    "**Lets see it!**"
   ]
  },
  {
   "cell_type": "code",
   "execution_count": 19,
   "metadata": {},
   "outputs": [
    {
     "data": {
      "text/plain": [
       "<matplotlib.axes._subplots.AxesSubplot at 0x7f037ae50e80>"
      ]
     },
     "execution_count": 19,
     "metadata": {},
     "output_type": "execute_result"
    },
    {
     "data": {
      "image/png": "[encoded data removed]",
      "text/plain": [
       "<Figure size 1080x504 with 1 Axes>"
      ]
     },
     "metadata": {
      "needs_background": "light"
     },
     "output_type": "display_data"
    }
   ],
   "source": [
    "##set size of plots\n",
    "import matplotlib.pyplot as plt\n",
    "plt.rcParams['figure.figsize'] = [15, 7]\n",
    "\n",
    "##plot the bar graph\n",
    "count.plot.bar()"
   ]
  },
  {
   "cell_type": "code",
   "execution_count": null,
   "metadata": {},
   "outputs": [],
   "source": [
    "#create pie chart\n",
    "pie_chart = count.plot.pie()\n"
   ]
  },
  {
   "cell_type": "markdown",
   "metadata": {},
   "source": [
    "Through ranking Pittsburgh, Pennsylvania neighborhoods based off of their access to medical care, I was able to select the \"best\" neighborhood. The best neighborhood is Monroeville. It has the best combination of medical and the other data sets. The second best is Wexford and then Sewickley."
   ]
  },
  {
   "cell_type": "markdown",
   "metadata": {},
   "source": [
    "**1: Monroeville**\n",
    "\n",
    "**2: Wexford**\n",
    "\n",
    "**3: Sewickley**\n",
    "\n",
    "....\n",
    "\n",
    "**Last: East Mc Keesport**"
   ]
  },
  {
   "cell_type": "code",
   "execution_count": null,
   "metadata": {},
   "outputs": [],
   "source": []
  }
 ],
 "metadata": {
  "kernelspec": {
   "display_name": "Python 3",
   "language": "python",
   "name": "python3"
  },
  "language_info": {
   "codemirror_mode": {
    "name": "ipython",
    "version": 3
   },
   "file_extension": ".py",
   "mimetype": "text/x-python",
   "name": "python",
   "nbconvert_exporter": "python",
   "pygments_lexer": "ipython3",
   "version": "3.8.3"
  }
 },
 "nbformat": 4,
 "nbformat_minor": 4
}
